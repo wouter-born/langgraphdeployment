{
 "cells": [
  {
   "cell_type": "code",
   "execution_count": 6,
   "metadata": {},
   "outputs": [],
   "source": [
    "from Classes.state_classes import SpecializedComponentState\n",
    "\n",
    "def _base_component_generation(component: dict, system_instructions_file: str) -> dict:\n",
    "    \"\"\"\n",
    "    Common logic that calls an LLM to produce a configuration for *any* type of component.\n",
    "    We just vary the system instruction file to tailor the generation.\n",
    "    \"\"\"\n",
    "    ai_description = component.get(\"AI_Generation_Description\", None)\n",
    "    ai_description = ai_description.strip() if isinstance(ai_description, str) else ai_description\n",
    "    if not ai_description:\n",
    "        # If there's no AI Generation Description, just return an empty config\n",
    "        return {}\n",
    "\n",
    "    print(ai_description)\n",
    "    system_instructions = load_xml_instructions(system_instructions_file)\n",
    "    system_msg = SystemMessage(content=system_instructions)\n",
    "    user_msg = HumanMessage(content=ai_description)\n",
    "\n",
    "    print(user_msg)\n",
    "    print(system_msg)\n",
    "\n",
    "\n",
    "    structured_llm = modelVers.with_structured_output(\n",
    "        ComponentConfig,\n",
    "        method=\"json_mode\",\n",
    "        include_raw=True\n",
    "    )\n",
    "\n",
    "    conversation = [system_msg, user_msg]\n",
    "    output = structured_llm.invoke(conversation, stream=False, response_format=\"json\")\n",
    "\n",
    "    parsed_output = output[\"parsed\"]\n",
    "    if parsed_output:\n",
    "        return parsed_output.model_dump()  # returns a dict\n",
    "    else:\n",
    "        return {}\n",
    "\n",
    "def generate_table_component(state: SpecializedComponentState):\n",
    "    component = state[\"component\"]\n",
    "    component_id = component.get(\"id\", \"NoId\")\n",
    "\n",
    "    specialized_config = _base_component_generation(\n",
    "        component=component,\n",
    "        system_instructions_file=\"component_table_gen.xml\"\n",
    "    )\n",
    "\n",
    "    generated_config = {\n",
    "        \"id\": component_id,\n",
    "        \"generatedConfig\": specialized_config\n",
    "    }\n",
    "    return {\"JsonLayoutWithComponentConfig\": [generated_config]}\n",
    "\n",
    "\n",
    "state = SpecializedComponentState(\n",
    "{\n",
    "  \"component\": {\n",
    "    \"id\": \"C1\",\n",
    "    \"type\": \"ReportTable\",\n",
    "    \"title\": \"Summarized Financial Statement\",\n",
    "    \"AI_Generation_Description\": \"A table showing the summarized financial statement up till EBITDA with actual and forecast on the columns.\"\n",
    "  },\n",
    "  \"selected_node\": \"generate_table_component\"\n",
    "})\n",
    "\n"
   ]
  },
  {
   "cell_type": "code",
   "execution_count": null,
   "metadata": {},
   "outputs": [
    {
     "name": "stdout",
     "output_type": "stream",
     "text": [
      "A table showing the summarized financial statement up till EBITDA with actual and forecast on the columns.\n"
     ]
    },
    {
     "ename": "NameError",
     "evalue": "name 'load_xml_instructions' is not defined",
     "output_type": "error",
     "traceback": [
      "\u001b[1;31m---------------------------------------------------------------------------\u001b[0m",
      "\u001b[1;31mNameError\u001b[0m                                 Traceback (most recent call last)",
      "Cell \u001b[1;32mIn[7], line 1\u001b[0m\n\u001b[1;32m----> 1\u001b[0m \u001b[43mgenerate_table_component\u001b[49m\u001b[43m(\u001b[49m\u001b[43mstate\u001b[49m\u001b[43m)\u001b[49m\n",
      "Cell \u001b[1;32mIn[6], line 42\u001b[0m, in \u001b[0;36mgenerate_table_component\u001b[1;34m(state)\u001b[0m\n\u001b[0;32m     39\u001b[0m component \u001b[38;5;241m=\u001b[39m state[\u001b[38;5;124m\"\u001b[39m\u001b[38;5;124mcomponent\u001b[39m\u001b[38;5;124m\"\u001b[39m]\n\u001b[0;32m     40\u001b[0m component_id \u001b[38;5;241m=\u001b[39m component\u001b[38;5;241m.\u001b[39mget(\u001b[38;5;124m\"\u001b[39m\u001b[38;5;124mid\u001b[39m\u001b[38;5;124m\"\u001b[39m, \u001b[38;5;124m\"\u001b[39m\u001b[38;5;124mNoId\u001b[39m\u001b[38;5;124m\"\u001b[39m)\n\u001b[1;32m---> 42\u001b[0m specialized_config \u001b[38;5;241m=\u001b[39m \u001b[43m_base_component_generation\u001b[49m\u001b[43m(\u001b[49m\n\u001b[0;32m     43\u001b[0m \u001b[43m    \u001b[49m\u001b[43mcomponent\u001b[49m\u001b[38;5;241;43m=\u001b[39;49m\u001b[43mcomponent\u001b[49m\u001b[43m,\u001b[49m\n\u001b[0;32m     44\u001b[0m \u001b[43m    \u001b[49m\u001b[43msystem_instructions_file\u001b[49m\u001b[38;5;241;43m=\u001b[39;49m\u001b[38;5;124;43m\"\u001b[39;49m\u001b[38;5;124;43mcomponent_table_gen.xml\u001b[39;49m\u001b[38;5;124;43m\"\u001b[39;49m\n\u001b[0;32m     45\u001b[0m \u001b[43m\u001b[49m\u001b[43m)\u001b[49m\n\u001b[0;32m     47\u001b[0m generated_config \u001b[38;5;241m=\u001b[39m {\n\u001b[0;32m     48\u001b[0m     \u001b[38;5;124m\"\u001b[39m\u001b[38;5;124mid\u001b[39m\u001b[38;5;124m\"\u001b[39m: component_id,\n\u001b[0;32m     49\u001b[0m     \u001b[38;5;124m\"\u001b[39m\u001b[38;5;124mgeneratedConfig\u001b[39m\u001b[38;5;124m\"\u001b[39m: specialized_config\n\u001b[0;32m     50\u001b[0m }\n\u001b[0;32m     51\u001b[0m \u001b[38;5;28;01mreturn\u001b[39;00m {\u001b[38;5;124m\"\u001b[39m\u001b[38;5;124mJsonLayoutWithComponentConfig\u001b[39m\u001b[38;5;124m\"\u001b[39m: [generated_config]}\n",
      "Cell \u001b[1;32mIn[6], line 15\u001b[0m, in \u001b[0;36m_base_component_generation\u001b[1;34m(component, system_instructions_file)\u001b[0m\n\u001b[0;32m     12\u001b[0m     \u001b[38;5;28;01mreturn\u001b[39;00m {}\n\u001b[0;32m     14\u001b[0m \u001b[38;5;28mprint\u001b[39m(ai_description)\n\u001b[1;32m---> 15\u001b[0m system_instructions \u001b[38;5;241m=\u001b[39m \u001b[43mload_xml_instructions\u001b[49m(system_instructions_file)\n\u001b[0;32m     16\u001b[0m system_msg \u001b[38;5;241m=\u001b[39m SystemMessage(content\u001b[38;5;241m=\u001b[39msystem_instructions)\n\u001b[0;32m     17\u001b[0m user_msg \u001b[38;5;241m=\u001b[39m HumanMessage(content\u001b[38;5;241m=\u001b[39mai_description)\n",
      "\u001b[1;31mNameError\u001b[0m: name 'load_xml_instructions' is not defined"
     ]
    },
    {
     "ename": "",
     "evalue": "",
     "output_type": "error",
     "traceback": [
      "\u001b[1;31mThe Kernel crashed while executing code in the current cell or a previous cell. \n",
      "\u001b[1;31mPlease review the code in the cell(s) to identify a possible cause of the failure. \n",
      "\u001b[1;31mClick <a href='https://aka.ms/vscodeJupyterKernelCrash'>here</a> for more info. \n",
      "\u001b[1;31mView Jupyter <a href='command:jupyter.viewOutput'>log</a> for further details."
     ]
    }
   ],
   "source": [
    "generate_table_component(state)"
   ]
  }
 ],
 "metadata": {
  "kernelspec": {
   "display_name": "Python 3",
   "language": "python",
   "name": "python3"
  },
  "language_info": {
   "codemirror_mode": {
    "name": "ipython",
    "version": 3
   },
   "file_extension": ".py",
   "mimetype": "text/x-python",
   "name": "python",
   "nbconvert_exporter": "python",
   "pygments_lexer": "ipython3",
   "version": "3.12.6"
  }
 },
 "nbformat": 4,
 "nbformat_minor": 2
}
