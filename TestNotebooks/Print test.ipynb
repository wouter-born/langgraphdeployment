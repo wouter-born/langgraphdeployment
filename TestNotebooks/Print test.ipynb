{
 "cells": [
  {
   "cell_type": "code",
   "execution_count": 15,
   "metadata": {},
   "outputs": [
    {
     "name": "stdout",
     "output_type": "stream",
     "text": [
      "{\"dimensions\":[\"Year\",\"Category\",\"Period\"],\"items\":[{\"name\":\"Actual\",\"dimensions\":{\"Year\":{\"member\":\"\",\"alias\":\"\"},\"Category\":{\"member\":\"Actual\"},\"Period\":{\"member\":\"\",\"alias\":\"Act. Norm\"}},\"attributes\":{\"minWidth\":50}},{\"name\":\"Forecast\",\"dimensions\":{\"Year\":{\"member\":\"\",\"alias\":\"\"},\"Category\":{\"member\":\"Forecast Jun\"},\"Period\":{\"member\":\"\",\"alias\":\"Forecast\"}},\"attributes\":{\"minWidth\":50}},{\"name\":\"LM\",\"dimensions\":{\"Year\":{\"member\":\"\",\"alias\":\"\"},\"Category\":{\"member\":\"\"},\"Period\":{\"member\":{\"type\":\"dynamic\",\"base\":\"CURRENT\",\"offset\":-1},\"alias\":\"LM\"}},\"attributes\":{\"minWidth\":50}},{\"name\":\"LY\",\"dimensions\":{\"Year\":{\"member\":{\"type\":\"dynamic\",\"base\":\"CURRENT\",\"offset\":-1},\"alias\":\"\"},\"Category\":{\"member\":\"\"},\"Period\":{\"member\":\"\",\"alias\":\"LY\"}},\"attributes\":{\"minWidth\":50}},{\"name\":\"Spacer\",\"attributes\":{\"minWidth\":20,\"empty\":true}},{\"name\":\"ForecastVar\",\"dimensions\":{\"Year\":{\"member\":\"\",\"alias\":\"VARIATION VS.\"},\"Category\":{\"member\":\"\"},\"Period\":{\"member\":\"\",\"alias\":\"FCST\"}},\"attributes\":{\"minWidth\":50},\"formula\":{\"type\":\"varianceAbsolute\",\"parameters\":[\"Actual\",\"Forecast\"]}},{\"name\":\"ForecastVarArrow\",\"dimensions\":{\"Year\":{\"member\":\"\",\"alias\":\"VARIATION VS.\"},\"Category\":{\"member\":\"\"},\"Period\":{\"member\":\"\",\"alias\":\"FCST\"}},\"attributes\":{\"minWidth\":20},\"formula\":{\"type\":\"varianceAbsolute\",\"parameters\":[\"Actual\",\"Forecast\"],\"displayStyle\":\"Arrows\"}},{\"name\":\"MOM\",\"dimensions\":{\"Year\":{\"member\":\"\",\"alias\":\"VARIATION VS.\"},\"Category\":{\"member\":\"\"},\"Period\":{\"member\":\"\",\"alias\":\"MoM\"}},\"attributes\":{\"minWidth\":50},\"formula\":{\"type\":\"varianceAbsolute\",\"parameters\":[\"Actual\",\"LM\"]}},{\"name\":\"MOMArrow\",\"dimensions\":{\"Year\":{\"member\":\"\",\"alias\":\"VARIATION VS.\"},\"Category\":{\"member\":\"\"},\"Period\":{\"member\":\"\",\"alias\":\"MoM\"}},\"attributes\":{\"minWidth\":20},\"formula\":{\"type\":\"varianceAbsolute\",\"parameters\":[\"Actual\",\"LM\"],\"displayStyle\":\"Arrows\"}},{\"name\":\"YOY\",\"dimensions\":{\"Year\":{\"member\":\"\",\"alias\":\"VARIATION VS.\"},\"Category\":{\"member\":\"\"},\"Period\":{\"member\":\"\",\"alias\":\"YoY\"}},\"attributes\":{\"minWidth\":50},\"formula\":{\"type\":\"varianceAbsolute\",\"parameters\":[\"Actual\",\"LY\"]}},{\"name\":\"YOYArrow\",\"dimensions\":{\"Year\":{\"member\":\"\",\"alias\":\"VARIATION VS.\"},\"Category\":{\"member\":\"\"},\"Period\":{\"member\":\"\",\"alias\":\"YoY\"}},\"attributes\":{\"minWidth\":20},\"formula\":{\"type\":\"varianceAbsolute\",\"parameters\":[\"Actual\",\"LY\"],\"displayStyle\":\"Arrows\"}}]}\n"
     ]
    }
   ],
   "source": [
    "text = \"{\\\"dimensions\\\":[\\\"Year\\\",\\\"Category\\\",\\\"Period\\\"],\\\"items\\\":[{\\\"name\\\":\\\"Actual\\\",\\\"dimensions\\\":{\\\"Year\\\":{\\\"member\\\":\\\"\\\",\\\"alias\\\":\\\"\\\"},\\\"Category\\\":{\\\"member\\\":\\\"Actual\\\"},\\\"Period\\\":{\\\"member\\\":\\\"\\\",\\\"alias\\\":\\\"Act. Norm\\\"}},\\\"attributes\\\":{\\\"minWidth\\\":50}},{\\\"name\\\":\\\"Forecast\\\",\\\"dimensions\\\":{\\\"Year\\\":{\\\"member\\\":\\\"\\\",\\\"alias\\\":\\\"\\\"},\\\"Category\\\":{\\\"member\\\":\\\"Forecast Jun\\\"},\\\"Period\\\":{\\\"member\\\":\\\"\\\",\\\"alias\\\":\\\"Forecast\\\"}},\\\"attributes\\\":{\\\"minWidth\\\":50}},{\\\"name\\\":\\\"LM\\\",\\\"dimensions\\\":{\\\"Year\\\":{\\\"member\\\":\\\"\\\",\\\"alias\\\":\\\"\\\"},\\\"Category\\\":{\\\"member\\\":\\\"\\\"},\\\"Period\\\":{\\\"member\\\":{\\\"type\\\":\\\"dynamic\\\",\\\"base\\\":\\\"CURRENT\\\",\\\"offset\\\":-1},\\\"alias\\\":\\\"LM\\\"}},\\\"attributes\\\":{\\\"minWidth\\\":50}},{\\\"name\\\":\\\"LY\\\",\\\"dimensions\\\":{\\\"Year\\\":{\\\"member\\\":{\\\"type\\\":\\\"dynamic\\\",\\\"base\\\":\\\"CURRENT\\\",\\\"offset\\\":-1},\\\"alias\\\":\\\"\\\"},\\\"Category\\\":{\\\"member\\\":\\\"\\\"},\\\"Period\\\":{\\\"member\\\":\\\"\\\",\\\"alias\\\":\\\"LY\\\"}},\\\"attributes\\\":{\\\"minWidth\\\":50}},{\\\"name\\\":\\\"Spacer\\\",\\\"attributes\\\":{\\\"minWidth\\\":20,\\\"empty\\\":true}},{\\\"name\\\":\\\"ForecastVar\\\",\\\"dimensions\\\":{\\\"Year\\\":{\\\"member\\\":\\\"\\\",\\\"alias\\\":\\\"VARIATION VS.\\\"},\\\"Category\\\":{\\\"member\\\":\\\"\\\"},\\\"Period\\\":{\\\"member\\\":\\\"\\\",\\\"alias\\\":\\\"FCST\\\"}},\\\"attributes\\\":{\\\"minWidth\\\":50},\\\"formula\\\":{\\\"type\\\":\\\"varianceAbsolute\\\",\\\"parameters\\\":[\\\"Actual\\\",\\\"Forecast\\\"]}},{\\\"name\\\":\\\"ForecastVarArrow\\\",\\\"dimensions\\\":{\\\"Year\\\":{\\\"member\\\":\\\"\\\",\\\"alias\\\":\\\"VARIATION VS.\\\"},\\\"Category\\\":{\\\"member\\\":\\\"\\\"},\\\"Period\\\":{\\\"member\\\":\\\"\\\",\\\"alias\\\":\\\"FCST\\\"}},\\\"attributes\\\":{\\\"minWidth\\\":20},\\\"formula\\\":{\\\"type\\\":\\\"varianceAbsolute\\\",\\\"parameters\\\":[\\\"Actual\\\",\\\"Forecast\\\"],\\\"displayStyle\\\":\\\"Arrows\\\"}},{\\\"name\\\":\\\"MOM\\\",\\\"dimensions\\\":{\\\"Year\\\":{\\\"member\\\":\\\"\\\",\\\"alias\\\":\\\"VARIATION VS.\\\"},\\\"Category\\\":{\\\"member\\\":\\\"\\\"},\\\"Period\\\":{\\\"member\\\":\\\"\\\",\\\"alias\\\":\\\"MoM\\\"}},\\\"attributes\\\":{\\\"minWidth\\\":50},\\\"formula\\\":{\\\"type\\\":\\\"varianceAbsolute\\\",\\\"parameters\\\":[\\\"Actual\\\",\\\"LM\\\"]}},{\\\"name\\\":\\\"MOMArrow\\\",\\\"dimensions\\\":{\\\"Year\\\":{\\\"member\\\":\\\"\\\",\\\"alias\\\":\\\"VARIATION VS.\\\"},\\\"Category\\\":{\\\"member\\\":\\\"\\\"},\\\"Period\\\":{\\\"member\\\":\\\"\\\",\\\"alias\\\":\\\"MoM\\\"}},\\\"attributes\\\":{\\\"minWidth\\\":20},\\\"formula\\\":{\\\"type\\\":\\\"varianceAbsolute\\\",\\\"parameters\\\":[\\\"Actual\\\",\\\"LM\\\"],\\\"displayStyle\\\":\\\"Arrows\\\"}},{\\\"name\\\":\\\"YOY\\\",\\\"dimensions\\\":{\\\"Year\\\":{\\\"member\\\":\\\"\\\",\\\"alias\\\":\\\"VARIATION VS.\\\"},\\\"Category\\\":{\\\"member\\\":\\\"\\\"},\\\"Period\\\":{\\\"member\\\":\\\"\\\",\\\"alias\\\":\\\"YoY\\\"}},\\\"attributes\\\":{\\\"minWidth\\\":50},\\\"formula\\\":{\\\"type\\\":\\\"varianceAbsolute\\\",\\\"parameters\\\":[\\\"Actual\\\",\\\"LY\\\"]}},{\\\"name\\\":\\\"YOYArrow\\\",\\\"dimensions\\\":{\\\"Year\\\":{\\\"member\\\":\\\"\\\",\\\"alias\\\":\\\"VARIATION VS.\\\"},\\\"Category\\\":{\\\"member\\\":\\\"\\\"},\\\"Period\\\":{\\\"member\\\":\\\"\\\",\\\"alias\\\":\\\"YoY\\\"}},\\\"attributes\\\":{\\\"minWidth\\\":20},\\\"formula\\\":{\\\"type\\\":\\\"varianceAbsolute\\\",\\\"parameters\\\":[\\\"Actual\\\",\\\"LY\\\"],\\\"displayStyle\\\":\\\"Arrows\\\"}}]}\"\n",
    "print(text)"
   ]
  }
 ],
 "metadata": {
  "kernelspec": {
   "display_name": "Python 3",
   "language": "python",
   "name": "python3"
  },
  "language_info": {
   "codemirror_mode": {
    "name": "ipython",
    "version": 3
   },
   "file_extension": ".py",
   "mimetype": "text/x-python",
   "name": "python",
   "nbconvert_exporter": "python",
   "pygments_lexer": "ipython3",
   "version": "3.12.6"
  }
 },
 "nbformat": 4,
 "nbformat_minor": 2
}
